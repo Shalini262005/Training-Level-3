{
 "cells": [
  {
   "cell_type": "code",
   "execution_count": 2,
   "metadata": {},
   "outputs": [],
   "source": [
    "import time"
   ]
  },
  {
   "cell_type": "code",
   "execution_count": 3,
   "metadata": {},
   "outputs": [
    {
     "name": "stdout",
     "output_type": "stream",
     "text": [
      "Hello,How are you!\n",
      "0.001767873764038086\n"
     ]
    }
   ],
   "source": [
    "def time_decorator(func):\n",
    "    def wrapper():\n",
    "        start_time=time.time()\n",
    "        func()\n",
    "        end_time=time.time()\n",
    "        print(end_time-start_time)\n",
    "    return wrapper()\n",
    "@time_decorator\n",
    "def my_func():\n",
    "    print(\"Hello,How are you!\")   \n",
    "my_func\n"
   ]
  }
 ],
 "metadata": {
  "kernelspec": {
   "display_name": "Python 3",
   "language": "python",
   "name": "python3"
  },
  "language_info": {
   "codemirror_mode": {
    "name": "ipython",
    "version": 3
   },
   "file_extension": ".py",
   "mimetype": "text/x-python",
   "name": "python",
   "nbconvert_exporter": "python",
   "pygments_lexer": "ipython3",
   "version": "3.12.5"
  }
 },
 "nbformat": 4,
 "nbformat_minor": 2
}
